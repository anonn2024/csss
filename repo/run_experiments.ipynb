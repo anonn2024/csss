{
 "cells": [
  {
   "cell_type": "code",
   "execution_count": 1,
   "metadata": {
    "collapsed": true
   },
   "outputs": [],
   "source": [
    "from evaluation_experiment_utils import *"
   ]
  },
  {
   "cell_type": "markdown",
   "source": [
    "## Read me:\n",
    "\n",
    "Run Adult or Bank datasets by loading the data, setting the parameters and running the desired method.\n",
    "Result jsons with the final values will be created and placed in the \"results\" directory under the main repo directory"
   ],
   "metadata": {
    "collapsed": false
   }
  },
  {
   "cell_type": "markdown",
   "source": [
    "# Adult dataset"
   ],
   "metadata": {
    "collapsed": false
   }
  },
  {
   "cell_type": "code",
   "execution_count": null,
   "outputs": [],
   "source": [
    "path = \"./datasets/transformed/adult_r3_4.csv\"\n",
    "base_name = 'adult'\n",
    "\n",
    "num_groups = 4\n",
    "\n",
    "cond_list = [[{}]]\n",
    "\n",
    "br_reduce = 0\n",
    "\n",
    "r3_subs = []\n",
    "for seed in range(11):\n",
    "    r3_subs.append(create_sub_datasets_from_dataset_by_conditions(path, num_groups=num_groups,\n",
    "                                                                           base_name=base_name,\n",
    "                                                                           cond_lists=cond_list, seed=seed, reduce_all_br_percent=br_reduce))\n",
    "\n",
    "key = list(r3_subs[0].keys())[0]"
   ],
   "metadata": {
    "collapsed": false,
    "pycharm": {
     "name": "#%%\n",
     "is_executing": true
    }
   }
  },
  {
   "cell_type": "markdown",
   "source": [
    "### parameters"
   ],
   "metadata": {
    "collapsed": false
   }
  },
  {
   "cell_type": "code",
   "execution_count": 3,
   "outputs": [],
   "source": [
    "# c_u\n",
    "cost = 0.7\n",
    "\n",
    "# seed for data split\n",
    "seed = 0\n",
    "\n",
    "# model parameters initiation seed\n",
    "model_seed = 1\n",
    "\n",
    "# application temperature\n",
    "app_tau = 5\n",
    "\n",
    "# precision temperature\n",
    "prec_tau = 5\n",
    "\n",
    "# True if model has separate bias parameters for each group\n",
    "with_group_weights = True\n",
    "\n",
    "# Learning model learns with higher cost by c_tolerance\n",
    "c_tolerance = 0.02\n",
    "\n",
    "# scalar used in the precision and application penalty functions\n",
    "penalty_scalar = 6\n",
    "\n",
    "# scalar used in the fairness penalty\n",
    "# Important! For numerical accuracy, there is a factor of 10 already in the penalty before applying the square on the differences in mean prediction, consider that when setting the parameter.\n",
    "fairness_param = 1\n",
    "# set to true to activate fairness penalty\n",
    "fair = False\n",
    "\n",
    "# epochs run\n",
    "epochs = 30000\n",
    "\n",
    "# learning rate\n",
    "lr = 0.1\n"
   ],
   "metadata": {
    "collapsed": false,
    "pycharm": {
     "name": "#%%\n"
    }
   }
  },
  {
   "cell_type": "markdown",
   "source": [
    "### Methods"
   ],
   "metadata": {
    "collapsed": false
   }
  },
  {
   "cell_type": "code",
   "execution_count": null,
   "outputs": [],
   "source": [
    "run_strategic(r3_subs[seed][key]['data'], c_u=cost, prec_tau=prec_tau, app_tau=app_tau, lr=lr, iters=epochs, with_x=with_group_weights, model_seed=model_seed, c_tolerance=c_tolerance, penalty_param=penalty_scalar, fair=fair, fairness_param=fairness_param)"
   ],
   "metadata": {
    "collapsed": false,
    "pycharm": {
     "name": "#%%\n",
     "is_executing": true
    }
   }
  },
  {
   "cell_type": "code",
   "execution_count": null,
   "outputs": [],
   "source": [
    "run_naive(r3_subs[seed][key]['data'], c_u=cost, prec_tau=prec_tau, app_tau=app_tau, lr=lr, iters=epochs, with_x=with_group_weights, model_seed=model_seed, c_tolerance=c_tolerance, penalty_param=penalty_scalar)"
   ],
   "metadata": {
    "collapsed": false,
    "pycharm": {
     "name": "#%%\n",
     "is_executing": true
    }
   }
  },
  {
   "cell_type": "code",
   "execution_count": null,
   "outputs": [],
   "source": [
    "run_semi_str(r3_subs[seed][key]['data'], c_u=cost, prec_tau=prec_tau, app_tau=app_tau, lr=lr, iters=epochs, with_x=with_group_weights, model_seed=model_seed, c_tolerance=c_tolerance, penalty_param=penalty_scalar)"
   ],
   "metadata": {
    "collapsed": false,
    "pycharm": {
     "name": "#%%\n",
     "is_executing": true
    }
   }
  },
  {
   "cell_type": "markdown",
   "source": [
    "# Bank dataset"
   ],
   "metadata": {
    "collapsed": false
   }
  },
  {
   "cell_type": "code",
   "execution_count": null,
   "outputs": [],
   "source": [
    "path = \"./datasets/transformed/bank_jobs_10.csv\"\n",
    "base_name = 'bank_jobs'\n",
    "\n",
    "num_groups = 10\n",
    "\n",
    "cond_list = [[{}]]\n",
    "\n",
    "# Set to reduce negative examples by br_reduce and increase base rates\n",
    "# For example: set to 0.3 to get br03 version mentioned in the paper\n",
    "br_reduce = 0\n",
    "\n",
    "job_subs = []\n",
    "for seed in range(11):\n",
    "    job_subs.append(create_sub_datasets_from_dataset_by_conditions(path, num_groups=num_groups,\n",
    "                                                                           base_name=base_name,\n",
    "                                                                           cond_lists=cond_list, seed=seed, reduce_all_br_percent=br_reduce))\n",
    "\n",
    "key = list(job_subs[0].keys())[0]"
   ],
   "metadata": {
    "collapsed": false,
    "pycharm": {
     "name": "#%%\n",
     "is_executing": true
    }
   }
  },
  {
   "cell_type": "markdown",
   "source": [
    "### parameters"
   ],
   "metadata": {
    "collapsed": false
   }
  },
  {
   "cell_type": "code",
   "execution_count": 8,
   "outputs": [],
   "source": [
    "# c_u\n",
    "cost = 0.7\n",
    "\n",
    "# seed for data split\n",
    "seed = 0\n",
    "\n",
    "# model parameters initiation seed\n",
    "model_seed = 1\n",
    "\n",
    "# application temperature\n",
    "app_tau = 5\n",
    "\n",
    "# precision temperature\n",
    "prec_tau = 5\n",
    "\n",
    "# True if model has separate bias parameters for each group\n",
    "with_group_weights = True\n",
    "\n",
    "# Learning model learns with higher cost by c_tolerance\n",
    "c_tolerance = 0.02\n",
    "\n",
    "# scalar used in the precision and application penalty functions\n",
    "penalty_scalar = 6\n",
    "\n",
    "# scalar used in the fairness penalty\n",
    "# Important! For numerical accuracy, there is a factor of 10 already in the penalty before applying the square on the differences in mean prediction, consider that when setting the parameter.\n",
    "fairness_param = 1\n",
    "# set to true to activate fairness penalty\n",
    "fair = False\n",
    "\n",
    "# epochs run\n",
    "epochs = 30000\n",
    "\n",
    "# learning rate\n",
    "lr = 0.1\n"
   ],
   "metadata": {
    "collapsed": false,
    "pycharm": {
     "name": "#%%\n"
    }
   }
  },
  {
   "cell_type": "markdown",
   "source": [
    "### Methods"
   ],
   "metadata": {
    "collapsed": false
   }
  },
  {
   "cell_type": "code",
   "execution_count": null,
   "outputs": [],
   "source": [
    "run_strategic(job_subs[seed][key]['data'], c_u=cost, prec_tau=prec_tau, app_tau=app_tau, lr=lr, iters=epochs, with_x=with_group_weights, model_seed=model_seed, c_tolerance=c_tolerance, penalty_param=penalty_scalar, fair=fair, fairness_param=fairness_param)"
   ],
   "metadata": {
    "collapsed": false,
    "pycharm": {
     "name": "#%%\n",
     "is_executing": true
    }
   }
  },
  {
   "cell_type": "code",
   "execution_count": null,
   "outputs": [],
   "source": [
    "run_naive(job_subs[seed][key]['data'], c_u=cost, prec_tau=prec_tau, app_tau=app_tau, lr=lr, iters=epochs, with_x=with_group_weights, model_seed=model_seed, c_tolerance=c_tolerance, penalty_param=penalty_scalar)"
   ],
   "metadata": {
    "collapsed": false,
    "pycharm": {
     "name": "#%%\n",
     "is_executing": true
    }
   }
  },
  {
   "cell_type": "code",
   "execution_count": null,
   "outputs": [],
   "source": [
    "run_semi_str(job_subs[seed][key]['data'], c_u=cost, prec_tau=prec_tau, app_tau=app_tau, lr=lr, iters=epochs, with_x=with_group_weights, model_seed=model_seed, c_tolerance=c_tolerance, penalty_param=penalty_scalar)"
   ],
   "metadata": {
    "collapsed": false,
    "pycharm": {
     "name": "#%%\n",
     "is_executing": true
    }
   }
  }
 ],
 "metadata": {
  "kernelspec": {
   "display_name": "Python 3",
   "language": "python",
   "name": "python3"
  },
  "language_info": {
   "codemirror_mode": {
    "name": "ipython",
    "version": 2
   },
   "file_extension": ".py",
   "mimetype": "text/x-python",
   "name": "python",
   "nbconvert_exporter": "python",
   "pygments_lexer": "ipython2",
   "version": "2.7.6"
  }
 },
 "nbformat": 4,
 "nbformat_minor": 0
}
